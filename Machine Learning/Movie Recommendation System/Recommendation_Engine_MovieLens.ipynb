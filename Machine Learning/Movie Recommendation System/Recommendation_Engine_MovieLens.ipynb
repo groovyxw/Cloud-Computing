{
  "cells": [
    {
      "cell_type": "markdown",
      "metadata": {
        "id": "view-in-github"
      },
      "source": [
        "<a href=\"https://colab.research.google.com/github/ling67/Cloud-Computing/blob/main/Recommendation_Engine_MovieLens.ipynb\" target=\"_parent\"><img src=\"https://colab.research.google.com/assets/colab-badge.svg\" alt=\"Open In Colab\"/></a>"
      ]
    },
    {
      "cell_type": "markdown",
      "metadata": {
        "id": "3EdolYzP5b5E"
      },
      "source": [
        "### Import libraries"
      ]
    },
    {
      "cell_type": "code",
      "execution_count": 1,
      "metadata": {
        "colab": {
          "base_uri": "https://localhost:8080/"
        },
        "id": "8TJ5sBqk5b5I",
        "outputId": "48576fc2-0922-45d3-e684-d249c0175a69"
      },
      "outputs": [
        {
          "output_type": "stream",
          "name": "stdout",
          "text": [
            "Looking in indexes: https://pypi.org/simple, https://us-python.pkg.dev/colab-wheels/public/simple/\n",
            "Collecting pyspark\n",
            "  Downloading pyspark-3.3.1.tar.gz (281.4 MB)\n",
            "\u001b[K     |████████████████████████████████| 281.4 MB 40 kB/s \n",
            "\u001b[?25hCollecting py4j==0.10.9.5\n",
            "  Downloading py4j-0.10.9.5-py2.py3-none-any.whl (199 kB)\n",
            "\u001b[K     |████████████████████████████████| 199 kB 51.2 MB/s \n",
            "\u001b[?25hBuilding wheels for collected packages: pyspark\n",
            "  Building wheel for pyspark (setup.py) ... \u001b[?25l\u001b[?25hdone\n",
            "  Created wheel for pyspark: filename=pyspark-3.3.1-py2.py3-none-any.whl size=281845514 sha256=ba3e796aaff9cc8560e0d245b89d49727f9f8bdb8e1c58f35a2dd42c837b45f0\n",
            "  Stored in directory: /root/.cache/pip/wheels/42/59/f5/79a5bf931714dcd201b26025347785f087370a10a3329a899c\n",
            "Successfully built pyspark\n",
            "Installing collected packages: py4j, pyspark\n",
            "Successfully installed py4j-0.10.9.5 pyspark-3.3.1\n"
          ]
        }
      ],
      "source": [
        "#https://grouplens.org/datasets/movielens/\n",
        "!pip3 install pyspark"
      ]
    },
    {
      "cell_type": "code",
      "execution_count": 2,
      "metadata": {
        "id": "WBR2Wjia5b5J"
      },
      "outputs": [],
      "source": [
        "import pandas as pd\n",
        "from pyspark.sql.functions import col, explode\n",
        "from pyspark import SparkContext"
      ]
    },
    {
      "cell_type": "markdown",
      "metadata": {
        "id": "7Zct9FHc5b5K"
      },
      "source": [
        "### Initiate spark session"
      ]
    },
    {
      "cell_type": "code",
      "execution_count": 3,
      "metadata": {
        "id": "W0t3fhCF5b5K"
      },
      "outputs": [],
      "source": [
        "from pyspark.sql import SparkSession\n",
        "sc = SparkContext\n",
        "# sc.setCheckpointDir('checkpoint')\n",
        "spark = SparkSession.builder.appName('Recommendations').getOrCreate()"
      ]
    },
    {
      "cell_type": "markdown",
      "metadata": {
        "id": "xZfZjiI_5b5K"
      },
      "source": [
        "# 1. Load data"
      ]
    },
    {
      "cell_type": "code",
      "execution_count": 4,
      "metadata": {
        "id": "lmfS2Yef5b5L"
      },
      "outputs": [],
      "source": [
        "movies = spark.read.csv(\"movies.csv\",header=True)\n",
        "ratings = spark.read.csv(\"ratings.csv\",header=True)"
      ]
    },
    {
      "cell_type": "code",
      "execution_count": 5,
      "metadata": {
        "colab": {
          "base_uri": "https://localhost:8080/"
        },
        "id": "FC81WEsW5b5L",
        "outputId": "640b451f-654e-4bf3-c4dd-e60b797e6060"
      },
      "outputs": [
        {
          "output_type": "stream",
          "name": "stdout",
          "text": [
            "+------+-------+------+---------+\n",
            "|userId|movieId|rating|timestamp|\n",
            "+------+-------+------+---------+\n",
            "|     1|      1|   4.0|964982703|\n",
            "|     1|      3|   4.0|964981247|\n",
            "|     1|      6|   4.0|964982224|\n",
            "|     1|     47|   5.0|964983815|\n",
            "|     1|     50|   5.0|964982931|\n",
            "|     1|     70|   3.0|964982400|\n",
            "|     1|    101|   5.0|964980868|\n",
            "|     1|    110|   4.0|964982176|\n",
            "|     1|    151|   5.0|964984041|\n",
            "|     1|    157|   5.0|964984100|\n",
            "|     1|    163|   5.0|964983650|\n",
            "|     1|    216|   5.0|964981208|\n",
            "|     1|    223|   3.0|964980985|\n",
            "|     1|    231|   5.0|964981179|\n",
            "|     1|    235|   4.0|964980908|\n",
            "|     1|    260|   5.0|964981680|\n",
            "|     1|    296|   3.0|964982967|\n",
            "|     1|    316|   3.0|964982310|\n",
            "|     1|    333|   5.0|964981179|\n",
            "|     1|    349|   4.0|964982563|\n",
            "+------+-------+------+---------+\n",
            "only showing top 20 rows\n",
            "\n"
          ]
        }
      ],
      "source": [
        "ratings.show()"
      ]
    },
    {
      "cell_type": "code",
      "execution_count": 6,
      "metadata": {
        "colab": {
          "base_uri": "https://localhost:8080/"
        },
        "id": "8bArLB7c5b5M",
        "outputId": "cc2f26b9-3dd8-4353-cb48-8242bf72e2f9"
      },
      "outputs": [
        {
          "output_type": "stream",
          "name": "stdout",
          "text": [
            "root\n",
            " |-- userId: string (nullable = true)\n",
            " |-- movieId: string (nullable = true)\n",
            " |-- rating: string (nullable = true)\n",
            " |-- timestamp: string (nullable = true)\n",
            "\n"
          ]
        }
      ],
      "source": [
        "ratings.printSchema()"
      ]
    },
    {
      "cell_type": "code",
      "execution_count": 7,
      "metadata": {
        "colab": {
          "base_uri": "https://localhost:8080/"
        },
        "id": "xbujaL1A5b5N",
        "outputId": "12720c69-a8b5-47e7-aa2f-7553a82c1443"
      },
      "outputs": [
        {
          "output_type": "stream",
          "name": "stdout",
          "text": [
            "+------+-------+------+\n",
            "|userId|movieId|rating|\n",
            "+------+-------+------+\n",
            "|     1|      1|   4.0|\n",
            "|     1|      3|   4.0|\n",
            "|     1|      6|   4.0|\n",
            "|     1|     47|   5.0|\n",
            "|     1|     50|   5.0|\n",
            "|     1|     70|   3.0|\n",
            "|     1|    101|   5.0|\n",
            "|     1|    110|   4.0|\n",
            "|     1|    151|   5.0|\n",
            "|     1|    157|   5.0|\n",
            "|     1|    163|   5.0|\n",
            "|     1|    216|   5.0|\n",
            "|     1|    223|   3.0|\n",
            "|     1|    231|   5.0|\n",
            "|     1|    235|   4.0|\n",
            "|     1|    260|   5.0|\n",
            "|     1|    296|   3.0|\n",
            "|     1|    316|   3.0|\n",
            "|     1|    333|   5.0|\n",
            "|     1|    349|   4.0|\n",
            "+------+-------+------+\n",
            "only showing top 20 rows\n",
            "\n"
          ]
        }
      ],
      "source": [
        "ratings = ratings.\\\n",
        "    withColumn('userId', col('userId').cast('integer')).\\\n",
        "    withColumn('movieId', col('movieId').cast('integer')).\\\n",
        "    withColumn('rating', col('rating').cast('float')).\\\n",
        "    drop('timestamp')\n",
        "ratings.show()"
      ]
    },
    {
      "cell_type": "markdown",
      "metadata": {
        "id": "ZZdcH0545b5N"
      },
      "source": [
        "## Calculate sparsity"
      ]
    },
    {
      "cell_type": "code",
      "execution_count": 8,
      "metadata": {
        "colab": {
          "base_uri": "https://localhost:8080/"
        },
        "id": "c2jZ9GtS5b5O",
        "outputId": "14443abc-81c7-48c5-e76b-c964bb6f5eef"
      },
      "outputs": [
        {
          "output_type": "stream",
          "name": "stdout",
          "text": [
            "The ratings dataframe is  98.30% empty.\n"
          ]
        }
      ],
      "source": [
        "# Count the total number of ratings in the dataset\n",
        "numerator = ratings.select(\"rating\").count()\n",
        "\n",
        "# Count the number of distinct userIds and distinct movieIds\n",
        "num_users = ratings.select(\"userId\").distinct().count()\n",
        "num_movies = ratings.select(\"movieId\").distinct().count()\n",
        "\n",
        "# Set the denominator equal to the number of users multiplied by the number of movies\n",
        "denominator = num_users * num_movies\n",
        "\n",
        "# Divide the numerator by the denominator\n",
        "sparsity = (1.0 - (numerator *1.0)/denominator)*100\n",
        "print(\"The ratings dataframe is \", \"%.2f\" % sparsity + \"% empty.\")"
      ]
    },
    {
      "cell_type": "markdown",
      "metadata": {
        "id": "trIfVVQg5b5O"
      },
      "source": [
        "## Interpret ratings"
      ]
    },
    {
      "cell_type": "code",
      "execution_count": 9,
      "metadata": {
        "colab": {
          "base_uri": "https://localhost:8080/"
        },
        "id": "wadW6N7h5b5P",
        "outputId": "da12eb64-d8b4-4eee-ea8b-df8b74029c34"
      },
      "outputs": [
        {
          "output_type": "stream",
          "name": "stdout",
          "text": [
            "+------+-----+\n",
            "|userId|count|\n",
            "+------+-----+\n",
            "|   414| 2698|\n",
            "|   599| 2478|\n",
            "|   474| 2108|\n",
            "|   448| 1864|\n",
            "|   274| 1346|\n",
            "|   610| 1302|\n",
            "|    68| 1260|\n",
            "|   380| 1218|\n",
            "|   606| 1115|\n",
            "|   288| 1055|\n",
            "|   249| 1046|\n",
            "|   387| 1027|\n",
            "|   182|  977|\n",
            "|   307|  975|\n",
            "|   603|  943|\n",
            "|   298|  939|\n",
            "|   177|  904|\n",
            "|   318|  879|\n",
            "|   232|  862|\n",
            "|   480|  836|\n",
            "+------+-----+\n",
            "only showing top 20 rows\n",
            "\n"
          ]
        }
      ],
      "source": [
        "# Group data by userId, count ratings\n",
        "userId_ratings = ratings.groupBy(\"userId\").count().orderBy('count', ascending=False)\n",
        "userId_ratings.show()"
      ]
    },
    {
      "cell_type": "code",
      "execution_count": 10,
      "metadata": {
        "colab": {
          "base_uri": "https://localhost:8080/"
        },
        "id": "pQ9QlUwU5b5P",
        "outputId": "50214271-3d74-4b4a-a060-ea75afa0d7a7"
      },
      "outputs": [
        {
          "output_type": "stream",
          "name": "stdout",
          "text": [
            "+-------+-----+\n",
            "|movieId|count|\n",
            "+-------+-----+\n",
            "|    356|  329|\n",
            "|    318|  317|\n",
            "|    296|  307|\n",
            "|    593|  279|\n",
            "|   2571|  278|\n",
            "|    260|  251|\n",
            "|    480|  238|\n",
            "|    110|  237|\n",
            "|    589|  224|\n",
            "|    527|  220|\n",
            "|   2959|  218|\n",
            "|      1|  215|\n",
            "|   1196|  211|\n",
            "|   2858|  204|\n",
            "|     50|  204|\n",
            "|     47|  203|\n",
            "|    780|  202|\n",
            "|    150|  201|\n",
            "|   1198|  200|\n",
            "|   4993|  198|\n",
            "+-------+-----+\n",
            "only showing top 20 rows\n",
            "\n"
          ]
        }
      ],
      "source": [
        "# Group data by userId, count ratings\n",
        "movieId_ratings = ratings.groupBy(\"movieId\").count().orderBy('count', ascending=False)\n",
        "movieId_ratings.show()"
      ]
    },
    {
      "cell_type": "markdown",
      "metadata": {
        "id": "vPXpGM2q5b5P"
      },
      "source": [
        "## Build Out An ALS Model"
      ]
    },
    {
      "cell_type": "code",
      "execution_count": 11,
      "metadata": {
        "id": "Xe1pK3qE5b5Q"
      },
      "outputs": [],
      "source": [
        "# Import the required functions\n",
        "from pyspark.ml.evaluation import RegressionEvaluator\n",
        "from pyspark.ml.recommendation import ALS\n",
        "from pyspark.ml.tuning import ParamGridBuilder, CrossValidator"
      ]
    },
    {
      "cell_type": "code",
      "execution_count": 12,
      "metadata": {
        "colab": {
          "base_uri": "https://localhost:8080/"
        },
        "id": "z5Q8-arN5b5Q",
        "outputId": "c0b0f32c-9fd5-47e8-b0ea-94c1627fa05b"
      },
      "outputs": [
        {
          "output_type": "execute_result",
          "data": {
            "text/plain": [
              "pyspark.ml.recommendation.ALS"
            ]
          },
          "metadata": {},
          "execution_count": 12
        }
      ],
      "source": [
        "# Create test and train set\n",
        "(train, test) = ratings.randomSplit([0.8, 0.2], seed = 1234)\n",
        "\n",
        "# Create ALS model\n",
        "als = ALS(userCol=\"userId\", itemCol=\"movieId\", ratingCol=\"rating\", nonnegative = True, implicitPrefs = False, coldStartStrategy=\"drop\")\n",
        "\n",
        "# Confirm that a model called \"als\" was created\n",
        "type(als)"
      ]
    },
    {
      "cell_type": "markdown",
      "metadata": {
        "id": "QVe4gyUL5b5R"
      },
      "source": [
        "## Tell Spark how to tune your ALS model"
      ]
    },
    {
      "cell_type": "code",
      "execution_count": 13,
      "metadata": {
        "colab": {
          "base_uri": "https://localhost:8080/"
        },
        "id": "MXKEYNFu5b5R",
        "outputId": "e232aa2e-befd-4e18-b634-14e5e067f1b2"
      },
      "outputs": [
        {
          "output_type": "stream",
          "name": "stdout",
          "text": [
            "Num models to be tested:  16\n"
          ]
        }
      ],
      "source": [
        "# Import the requisite items\n",
        "from pyspark.ml.evaluation import RegressionEvaluator\n",
        "from pyspark.ml.tuning import ParamGridBuilder, CrossValidator\n",
        "\n",
        "# Add hyperparameters and their respective values to param_grid\n",
        "param_grid = ParamGridBuilder() \\\n",
        "            .addGrid(als.rank, [10, 50, 100, 150]) \\\n",
        "            .addGrid(als.regParam, [.01, .05, .1, .15]) \\\n",
        "            .build()\n",
        "            #             .addGrid(als.maxIter, [5, 50, 100, 200]) \\\n",
        "\n",
        "           \n",
        "# Define evaluator as RMSE and print length of evaluator\n",
        "evaluator = RegressionEvaluator(metricName=\"rmse\", labelCol=\"rating\", predictionCol=\"prediction\") \n",
        "print (\"Num models to be tested: \", len(param_grid))"
      ]
    },
    {
      "cell_type": "markdown",
      "metadata": {
        "id": "Dzyw-wo55b5R"
      },
      "source": [
        "## Build your cross validation pipeline"
      ]
    },
    {
      "cell_type": "code",
      "execution_count": 14,
      "metadata": {
        "colab": {
          "base_uri": "https://localhost:8080/"
        },
        "id": "rNAt0rJ35b5S",
        "outputId": "4ed64807-f2df-4fae-c123-96666ef9df39"
      },
      "outputs": [
        {
          "output_type": "stream",
          "name": "stdout",
          "text": [
            "CrossValidator_7f73a24f3834\n"
          ]
        }
      ],
      "source": [
        "# Build cross validation using CrossValidator\n",
        "cv = CrossValidator(estimator=als, estimatorParamMaps=param_grid, evaluator=evaluator, numFolds=5)\n",
        "\n",
        "# Confirm cv was built\n",
        "print(cv)"
      ]
    },
    {
      "cell_type": "markdown",
      "metadata": {
        "id": "USDJZzFR5b5S"
      },
      "source": [
        "## Best Model and Best Model Parameters"
      ]
    },
    {
      "cell_type": "code",
      "execution_count": 15,
      "metadata": {
        "id": "SW6lqxIn5b5S"
      },
      "outputs": [],
      "source": [
        "#Fit cross validator to the 'train' dataset\n",
        "model = cv.fit(train)\n",
        "\n",
        "#Extract best model from the cv model above\n",
        "best_model = model.bestModel"
      ]
    },
    {
      "cell_type": "code",
      "execution_count": 16,
      "metadata": {
        "colab": {
          "base_uri": "https://localhost:8080/"
        },
        "id": "Ypub2mlG5b5T",
        "outputId": "92bc70f2-7407-4bdc-b3d1-67a0f62a34df"
      },
      "outputs": [
        {
          "output_type": "stream",
          "name": "stdout",
          "text": [
            "<class 'pyspark.ml.recommendation.ALSModel'>\n",
            "**Best Model**\n",
            "  Rank: 100\n",
            "  MaxIter: 10\n",
            "  RegParam: 0.15\n"
          ]
        }
      ],
      "source": [
        "\n",
        "# Print best_model\n",
        "print(type(best_model))\n",
        "\n",
        "# Complete the code below to extract the ALS model parameters\n",
        "print(\"**Best Model**\")\n",
        "\n",
        "# # Print \"Rank\"\n",
        "print(\"  Rank:\", best_model._java_obj.parent().getRank())\n",
        "\n",
        "# Print \"MaxIter\"\n",
        "print(\"  MaxIter:\", best_model._java_obj.parent().getMaxIter())\n",
        "\n",
        "# Print \"RegParam\"\n",
        "print(\"  RegParam:\", best_model._java_obj.parent().getRegParam())"
      ]
    },
    {
      "cell_type": "code",
      "execution_count": 17,
      "metadata": {
        "scrolled": true,
        "colab": {
          "base_uri": "https://localhost:8080/"
        },
        "id": "R2WGvnPY5b5T",
        "outputId": "2f1c36f7-aeaf-41a7-b8b7-0c99160c6c53"
      },
      "outputs": [
        {
          "output_type": "stream",
          "name": "stdout",
          "text": [
            "0.8682620515365389\n"
          ]
        }
      ],
      "source": [
        "# View the predictions\n",
        "test_predictions = best_model.transform(test)\n",
        "RMSE = evaluator.evaluate(test_predictions)\n",
        "print(RMSE)"
      ]
    },
    {
      "cell_type": "code",
      "execution_count": 18,
      "metadata": {
        "colab": {
          "base_uri": "https://localhost:8080/"
        },
        "id": "mTVSivmH5b5T",
        "outputId": "9a13fb61-4ed9-4542-f8cb-08f33e32b8d1"
      },
      "outputs": [
        {
          "output_type": "stream",
          "name": "stdout",
          "text": [
            "+------+-------+------+----------+\n",
            "|userId|movieId|rating|prediction|\n",
            "+------+-------+------+----------+\n",
            "|   580|   1580|   4.0| 3.4495103|\n",
            "|   580|  44022|   3.5| 3.2733073|\n",
            "|   597|    471|   2.0|  4.171155|\n",
            "|   108|   1959|   5.0|  3.829603|\n",
            "|   368|   2122|   2.0|  1.854136|\n",
            "|   436|    471|   3.0| 3.6008394|\n",
            "|   587|   1580|   4.0|  3.890549|\n",
            "|    27|   1580|   3.0|  3.363046|\n",
            "|   606|   1580|   2.5| 3.1712372|\n",
            "|   606|  44022|   4.0| 2.8490963|\n",
            "|    91|   2122|   4.0| 2.3776584|\n",
            "|   157|   3175|   2.0| 3.4157405|\n",
            "|   232|   1580|   3.5| 3.3992457|\n",
            "|   232|  44022|   3.0| 3.1433778|\n",
            "|   246|   1645|   4.0| 3.7876792|\n",
            "|   599|   2366|   3.0|  2.883048|\n",
            "|   111|   1088|   3.0| 3.1403074|\n",
            "|   111|   3175|   3.5| 2.9766815|\n",
            "|    47|   1580|   1.5| 2.7115104|\n",
            "|   140|   1580|   3.0| 3.3875535|\n",
            "+------+-------+------+----------+\n",
            "only showing top 20 rows\n",
            "\n"
          ]
        }
      ],
      "source": [
        "test_predictions.show()"
      ]
    },
    {
      "cell_type": "markdown",
      "metadata": {
        "id": "lT8QoFv85b5U"
      },
      "source": [
        "## Make Recommendations"
      ]
    },
    {
      "cell_type": "code",
      "execution_count": 19,
      "metadata": {
        "colab": {
          "base_uri": "https://localhost:8080/"
        },
        "id": "RaqieYy25b5U",
        "outputId": "07a368cb-a657-49df-d650-faf8d5cb565f"
      },
      "outputs": [
        {
          "output_type": "stream",
          "name": "stdout",
          "text": [
            "+------+--------------------+\n",
            "|userId|     recommendations|\n",
            "+------+--------------------+\n",
            "|     1|[{3379, 5.7035594...|\n",
            "|     3|[{5746, 4.854544}...|\n",
            "|     5|[{3379, 4.5040383...|\n",
            "|     6|[{33649, 4.745826...|\n",
            "|     9|[{3379, 4.8132567...|\n",
            "|    12|[{67618, 5.634257...|\n",
            "|    13|[{33649, 4.964475...|\n",
            "|    15|[{3379, 4.4159174...|\n",
            "|    16|[{3379, 4.5857267...|\n",
            "|    17|[{3379, 5.137128}...|\n",
            "+------+--------------------+\n",
            "\n"
          ]
        }
      ],
      "source": [
        "# Generate n Recommendations for all users\n",
        "nrecommendations = best_model.recommendForAllUsers(10)\n",
        "nrecommendations.limit(10).show()"
      ]
    },
    {
      "cell_type": "code",
      "execution_count": 20,
      "metadata": {
        "colab": {
          "base_uri": "https://localhost:8080/"
        },
        "id": "W-IvSRC55b5U",
        "outputId": "1339a8f7-2e52-49f0-b6db-4901dd04e650"
      },
      "outputs": [
        {
          "output_type": "stream",
          "name": "stdout",
          "text": [
            "+------+-------+---------+\n",
            "|userId|movieId|   rating|\n",
            "+------+-------+---------+\n",
            "|     1|   3379|5.7035594|\n",
            "|     1|  33649|5.5820866|\n",
            "|     1|   5490|5.5036654|\n",
            "|     1| 171495| 5.377272|\n",
            "|     1|   3951| 5.362537|\n",
            "|     1|   5328| 5.362537|\n",
            "|     1|   5416| 5.362537|\n",
            "|     1|   5915|5.3560553|\n",
            "|     1|  78836|5.3270087|\n",
            "|     1|   6460| 5.321884|\n",
            "+------+-------+---------+\n",
            "\n"
          ]
        }
      ],
      "source": [
        "nrecommendations = nrecommendations\\\n",
        "    .withColumn(\"rec_exp\", explode(\"recommendations\"))\\\n",
        "    .select('userId', col(\"rec_exp.movieId\"), col(\"rec_exp.rating\"))\n",
        "\n",
        "nrecommendations.limit(10).show()"
      ]
    },
    {
      "cell_type": "markdown",
      "metadata": {
        "id": "IgrEfwnZ5b5U"
      },
      "source": [
        "## Do the recommendations make sense?\n",
        "Lets merge movie name and genres to teh recommendation matrix for interpretability."
      ]
    },
    {
      "cell_type": "code",
      "execution_count": 21,
      "metadata": {
        "colab": {
          "base_uri": "https://localhost:8080/"
        },
        "id": "Tj6zhg-t5b5V",
        "outputId": "7f724789-9810-4d40-e591-76514fe4d7df"
      },
      "outputs": [
        {
          "output_type": "stream",
          "name": "stdout",
          "text": [
            "+-------+------+---------+--------------------+--------------------+\n",
            "|movieId|userId|   rating|               title|              genres|\n",
            "+-------+------+---------+--------------------+--------------------+\n",
            "|  67618|   100|  5.07222|Strictly Sexual (...|Comedy|Drama|Romance|\n",
            "|  33649|   100| 5.000794|  Saving Face (2004)|Comedy|Drama|Romance|\n",
            "|   3379|   100| 4.961317| On the Beach (1959)|               Drama|\n",
            "|  74282|   100|4.8944383|Anne of Green Gab...|Children|Drama|Ro...|\n",
            "|  42730|   100|4.8901343|   Glory Road (2006)|               Drama|\n",
            "| 117531|   100|4.8816633|    Watermark (2014)|         Documentary|\n",
            "|   7071|   100|4.8816633|Woman Under the I...|               Drama|\n",
            "| 184245|   100|4.8816633|De platte jungle ...|         Documentary|\n",
            "|  26073|   100|4.8816633|Human Condition I...|           Drama|War|\n",
            "| 179135|   100|4.8816633|Blue Planet II (2...|         Documentary|\n",
            "+-------+------+---------+--------------------+--------------------+\n",
            "\n"
          ]
        }
      ],
      "source": [
        "nrecommendations.join(movies, on='movieId').filter('userId = 100').show()"
      ]
    },
    {
      "cell_type": "code",
      "execution_count": 22,
      "metadata": {
        "colab": {
          "base_uri": "https://localhost:8080/"
        },
        "id": "an5x35um5b5V",
        "outputId": "fccf3737-9e76-4670-ad96-8cf2d750fa0d"
      },
      "outputs": [
        {
          "output_type": "stream",
          "name": "stdout",
          "text": [
            "+-------+------+------+--------------------+--------------------+\n",
            "|movieId|userId|rating|               title|              genres|\n",
            "+-------+------+------+--------------------+--------------------+\n",
            "|   1101|   100|   5.0|      Top Gun (1986)|      Action|Romance|\n",
            "|   1958|   100|   5.0|Terms of Endearme...|        Comedy|Drama|\n",
            "|   2423|   100|   5.0|Christmas Vacatio...|              Comedy|\n",
            "|   4041|   100|   5.0|Officer and a Gen...|       Drama|Romance|\n",
            "|   5620|   100|   5.0|Sweet Home Alabam...|      Comedy|Romance|\n",
            "|    368|   100|   4.5|     Maverick (1994)|Adventure|Comedy|...|\n",
            "|    934|   100|   4.5|Father of the Bri...|              Comedy|\n",
            "|    539|   100|   4.5|Sleepless in Seat...|Comedy|Drama|Romance|\n",
            "|     16|   100|   4.5|       Casino (1995)|         Crime|Drama|\n",
            "|    553|   100|   4.5|    Tombstone (1993)|Action|Drama|Western|\n",
            "+-------+------+------+--------------------+--------------------+\n",
            "\n"
          ]
        }
      ],
      "source": [
        "ratings.join(movies, on='movieId').filter('userId = 100').sort('rating', ascending=False).limit(10).show()"
      ]
    }
  ],
  "metadata": {
    "kernelspec": {
      "display_name": "Python 3",
      "language": "python",
      "name": "python3"
    },
    "language_info": {
      "codemirror_mode": {
        "name": "ipython",
        "version": 3
      },
      "file_extension": ".py",
      "mimetype": "text/x-python",
      "name": "python",
      "nbconvert_exporter": "python",
      "pygments_lexer": "ipython3",
      "version": "3.7.3"
    },
    "colab": {
      "provenance": []
    }
  },
  "nbformat": 4,
  "nbformat_minor": 0
}